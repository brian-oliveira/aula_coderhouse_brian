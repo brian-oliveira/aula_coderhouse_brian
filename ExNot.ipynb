{
 "cells": [
  {
   "cell_type": "code",
   "execution_count": 27,
   "id": "3d623ccc",
   "metadata": {},
   "outputs": [],
   "source": [
    "from plyer import notification\n",
    "from datetime import *\n",
    "\n",
    "def alerta (nivel, base, etapa):\n",
    "    dia_hora = str(datetime.now())\n",
    "    if nivel == 1:\n",
    "        notification.notify(title='ATENÇÃO: Alerta Baixo', message=f'Falha no carregamento da base {base} na etapa {etapa}.\\n{dia_hora}',\n",
    "                            timeout=10, app_name='Teste')\n",
    "    elif nivel == 2:\n",
    "        notification.notify(title='ATENÇÃO: Alerta Médio', message=f'Falha no carregamento da base {base} na etapa {etapa}.\\n{dia_hora}',\n",
    "                            timeout=10)\n",
    "    elif nivel == 3:\n",
    "        notification.notify(title='ATENÇÃO: Alerta Alto', message=f'Falha no carregamento da base {base} na etapa {etapa}.\\n{dia_hora}',\n",
    "                            timeout=10)\n",
    "    else:\n",
    "        return print('Insira argumentos válidos')\n"
   ]
  },
  {
   "cell_type": "code",
   "execution_count": 31,
   "id": "847c413c",
   "metadata": {},
   "outputs": [],
   "source": [
    "alerta(nivel = 3,base = 'CLIENTES',etapa = 'EXTRAÇÃO')"
   ]
  }
 ],
 "metadata": {
  "kernelspec": {
   "display_name": "Python 3 (ipykernel)",
   "language": "python",
   "name": "python3"
  },
  "language_info": {
   "codemirror_mode": {
    "name": "ipython",
    "version": 3
   },
   "file_extension": ".py",
   "mimetype": "text/x-python",
   "name": "python",
   "nbconvert_exporter": "python",
   "pygments_lexer": "ipython3",
   "version": "3.11.3"
  }
 },
 "nbformat": 4,
 "nbformat_minor": 5
}
